{
 "cells": [
  {
   "cell_type": "code",
   "execution_count": 1,
   "metadata": {},
   "outputs": [],
   "source": [
    "import pandas as pd # data processing, CSV file I/O (e.g. pd.read_csv)\n",
    "import numpy as np # linear algebra"
   ]
  },
  {
   "cell_type": "code",
   "execution_count": 19,
   "metadata": {},
   "outputs": [],
   "source": [
    "data = pd.read_csv('../datasets/unemployment.csv')\n",
    "#data.head(50)\n",
    "\n",
    "# keep: district code, district name, gender, demand_occupation, number"
   ]
  },
  {
   "cell_type": "code",
   "execution_count": 3,
   "metadata": {},
   "outputs": [
    {
     "name": "stdout",
     "output_type": "stream",
     "text": [
      "<class 'pandas.core.frame.DataFrame'>\n",
      "RangeIndex: 14208 entries, 0 to 14207\n",
      "Data columns (total 9 columns):\n",
      "Year                 14208 non-null int64\n",
      "Month                14208 non-null object\n",
      "District Code        14208 non-null int64\n",
      "District Name        14208 non-null object\n",
      "Neighborhood Code    14208 non-null int64\n",
      "Neighborhood Name    14208 non-null object\n",
      "Gender               14208 non-null object\n",
      "Demand_occupation    14208 non-null object\n",
      "Number               14208 non-null int64\n",
      "dtypes: int64(4), object(5)\n",
      "memory usage: 999.1+ KB\n"
     ]
    }
   ],
   "source": [
    "data.info() # non-null data"
   ]
  },
  {
   "cell_type": "code",
   "execution_count": 4,
   "metadata": {},
   "outputs": [
    {
     "data": {
      "text/plain": [
       "Index(['Year', 'Month', 'District Code', 'District Name', 'Neighborhood Code',\n",
       "       'Neighborhood Name', 'Gender', 'Demand_occupation', 'Number'],\n",
       "      dtype='object')"
      ]
     },
     "execution_count": 4,
     "metadata": {},
     "output_type": "execute_result"
    }
   ],
   "source": [
    "data.columns"
   ]
  },
  {
   "cell_type": "code",
   "execution_count": 5,
   "metadata": {},
   "outputs": [],
   "source": [
    "#filtered = data[['Year', 'Month', 'District Code', 'District Name', 'Gender', 'Demand_occupation', 'Number']]"
   ]
  },
  {
   "cell_type": "code",
   "execution_count": 6,
   "metadata": {},
   "outputs": [],
   "source": [
    "#filtered by year 2017"
   ]
  },
  {
   "cell_type": "code",
   "execution_count": 20,
   "metadata": {},
   "outputs": [],
   "source": [
    "filtered = data.loc[data['Year'] == 2017, \n",
    "                    ['Year', 'Month', 'District Code', 'District Name', 'Gender', 'Demand_occupation', 'Number']]"
   ]
  },
  {
   "cell_type": "code",
   "execution_count": 9,
   "metadata": {},
   "outputs": [],
   "source": [
    "#filtered by demand_occupation"
   ]
  },
  {
   "cell_type": "code",
   "execution_count": 21,
   "metadata": {},
   "outputs": [],
   "source": [
    "filtered = filtered.loc[filtered['Demand_occupation'] == 'Registered unemployed', \n",
    "                    ['Year', 'Month', 'District Code', 'District Name', 'Gender', 'Demand_occupation', 'Number']]"
   ]
  },
  {
   "cell_type": "code",
   "execution_count": null,
   "metadata": {},
   "outputs": [],
   "source": [
    "#aggregated registered number of unemployed-female and male"
   ]
  },
  {
   "cell_type": "code",
   "execution_count": 23,
   "metadata": {
    "scrolled": true
   },
   "outputs": [
    {
     "data": {
      "text/html": [
       "<div>\n",
       "<style scoped>\n",
       "    .dataframe tbody tr th:only-of-type {\n",
       "        vertical-align: middle;\n",
       "    }\n",
       "\n",
       "    .dataframe tbody tr th {\n",
       "        vertical-align: top;\n",
       "    }\n",
       "\n",
       "    .dataframe thead th {\n",
       "        text-align: right;\n",
       "    }\n",
       "</style>\n",
       "<table border=\"1\" class=\"dataframe\">\n",
       "  <thead>\n",
       "    <tr style=\"text-align: right;\">\n",
       "      <th></th>\n",
       "      <th>Year</th>\n",
       "      <th>District Name</th>\n",
       "      <th>District Code</th>\n",
       "      <th>Demand_occupation</th>\n",
       "      <th>Number</th>\n",
       "    </tr>\n",
       "  </thead>\n",
       "  <tbody>\n",
       "    <tr>\n",
       "      <th>0</th>\n",
       "      <td>2017</td>\n",
       "      <td>Ciutat Vella</td>\n",
       "      <td>1</td>\n",
       "      <td>Registered unemployed</td>\n",
       "      <td>80119</td>\n",
       "    </tr>\n",
       "    <tr>\n",
       "      <th>1</th>\n",
       "      <td>2017</td>\n",
       "      <td>Eixample</td>\n",
       "      <td>2</td>\n",
       "      <td>Registered unemployed</td>\n",
       "      <td>120935</td>\n",
       "    </tr>\n",
       "    <tr>\n",
       "      <th>2</th>\n",
       "      <td>2017</td>\n",
       "      <td>Gràcia</td>\n",
       "      <td>6</td>\n",
       "      <td>Registered unemployed</td>\n",
       "      <td>58127</td>\n",
       "    </tr>\n",
       "    <tr>\n",
       "      <th>3</th>\n",
       "      <td>2017</td>\n",
       "      <td>Horta-Guinardó</td>\n",
       "      <td>7</td>\n",
       "      <td>Registered unemployed</td>\n",
       "      <td>97353</td>\n",
       "    </tr>\n",
       "    <tr>\n",
       "      <th>4</th>\n",
       "      <td>2017</td>\n",
       "      <td>Les Corts</td>\n",
       "      <td>4</td>\n",
       "      <td>Registered unemployed</td>\n",
       "      <td>34529</td>\n",
       "    </tr>\n",
       "  </tbody>\n",
       "</table>\n",
       "</div>"
      ],
      "text/plain": [
       "   Year   District Name  District Code      Demand_occupation  Number\n",
       "0  2017    Ciutat Vella              1  Registered unemployed   80119\n",
       "1  2017        Eixample              2  Registered unemployed  120935\n",
       "2  2017          Gràcia              6  Registered unemployed   58127\n",
       "3  2017  Horta-Guinardó              7  Registered unemployed   97353\n",
       "4  2017       Les Corts              4  Registered unemployed   34529"
      ]
     },
     "execution_count": 23,
     "metadata": {},
     "output_type": "execute_result"
    }
   ],
   "source": [
    "aggregated = filtered.groupby(by=\n",
    "                              ['Year','District Name','District Code', 'Demand_occupation'], \n",
    "                              as_index =False ).agg({'Number':np.sum})\n",
    "\n",
    "#aggregated.head()"
   ]
  },
  {
   "cell_type": "code",
   "execution_count": 24,
   "metadata": {
    "scrolled": true
   },
   "outputs": [],
   "source": [
    "#aggregated.shape"
   ]
  },
  {
   "cell_type": "code",
   "execution_count": null,
   "metadata": {},
   "outputs": [],
   "source": [
    "# renamed column Number to Reg_unemployed 2017"
   ]
  },
  {
   "cell_type": "code",
   "execution_count": 14,
   "metadata": {},
   "outputs": [],
   "source": [
    "unemployed = aggregated.rename(columns={\"Number\" : \"Reg_unemployed 2017\"})"
   ]
  },
  {
   "cell_type": "code",
   "execution_count": null,
   "metadata": {},
   "outputs": [],
   "source": [
    "# columns sorted in unemployed"
   ]
  },
  {
   "cell_type": "code",
   "execution_count": 15,
   "metadata": {},
   "outputs": [],
   "source": [
    "unemployed = unemployed[['District Name','District Code','Reg_unemployed 2017']]"
   ]
  },
  {
   "cell_type": "code",
   "execution_count": 25,
   "metadata": {},
   "outputs": [],
   "source": [
    "# dropped rows with distict value 99"
   ]
  },
  {
   "cell_type": "code",
   "execution_count": 26,
   "metadata": {},
   "outputs": [],
   "source": [
    "unemployed_final = unemployed.set_index('District Code')\n",
    "unemployed_final = unemployed_final.drop(99, axis=0)"
   ]
  },
  {
   "cell_type": "code",
   "execution_count": 27,
   "metadata": {},
   "outputs": [],
   "source": [
    "# unemployed final table"
   ]
  },
  {
   "cell_type": "code",
   "execution_count": 28,
   "metadata": {},
   "outputs": [
    {
     "data": {
      "text/html": [
       "<div>\n",
       "<style scoped>\n",
       "    .dataframe tbody tr th:only-of-type {\n",
       "        vertical-align: middle;\n",
       "    }\n",
       "\n",
       "    .dataframe tbody tr th {\n",
       "        vertical-align: top;\n",
       "    }\n",
       "\n",
       "    .dataframe thead th {\n",
       "        text-align: right;\n",
       "    }\n",
       "</style>\n",
       "<table border=\"1\" class=\"dataframe\">\n",
       "  <thead>\n",
       "    <tr style=\"text-align: right;\">\n",
       "      <th></th>\n",
       "      <th>District Name</th>\n",
       "      <th>Reg_unemployed 2017</th>\n",
       "    </tr>\n",
       "    <tr>\n",
       "      <th>District Code</th>\n",
       "      <th></th>\n",
       "      <th></th>\n",
       "    </tr>\n",
       "  </thead>\n",
       "  <tbody>\n",
       "    <tr>\n",
       "      <th>1</th>\n",
       "      <td>Ciutat Vella</td>\n",
       "      <td>80119</td>\n",
       "    </tr>\n",
       "    <tr>\n",
       "      <th>2</th>\n",
       "      <td>Eixample</td>\n",
       "      <td>120935</td>\n",
       "    </tr>\n",
       "    <tr>\n",
       "      <th>3</th>\n",
       "      <td>Sants-Montjuïc</td>\n",
       "      <td>107560</td>\n",
       "    </tr>\n",
       "    <tr>\n",
       "      <th>4</th>\n",
       "      <td>Les Corts</td>\n",
       "      <td>34529</td>\n",
       "    </tr>\n",
       "    <tr>\n",
       "      <th>5</th>\n",
       "      <td>Sarrià-Sant Gervasi</td>\n",
       "      <td>42525</td>\n",
       "    </tr>\n",
       "    <tr>\n",
       "      <th>6</th>\n",
       "      <td>Gràcia</td>\n",
       "      <td>58127</td>\n",
       "    </tr>\n",
       "    <tr>\n",
       "      <th>7</th>\n",
       "      <td>Horta-Guinardó</td>\n",
       "      <td>97353</td>\n",
       "    </tr>\n",
       "    <tr>\n",
       "      <th>8</th>\n",
       "      <td>Nou Barris</td>\n",
       "      <td>122721</td>\n",
       "    </tr>\n",
       "    <tr>\n",
       "      <th>9</th>\n",
       "      <td>Sant Andreu</td>\n",
       "      <td>89952</td>\n",
       "    </tr>\n",
       "    <tr>\n",
       "      <th>10</th>\n",
       "      <td>Sant Martí</td>\n",
       "      <td>143987</td>\n",
       "    </tr>\n",
       "  </tbody>\n",
       "</table>\n",
       "</div>"
      ],
      "text/plain": [
       "                     District Name  Reg_unemployed 2017\n",
       "District Code                                          \n",
       "1                     Ciutat Vella                80119\n",
       "2                         Eixample               120935\n",
       "3                   Sants-Montjuïc               107560\n",
       "4                        Les Corts                34529\n",
       "5              Sarrià-Sant Gervasi                42525\n",
       "6                           Gràcia                58127\n",
       "7                   Horta-Guinardó                97353\n",
       "8                       Nou Barris               122721\n",
       "9                      Sant Andreu                89952\n",
       "10                      Sant Martí               143987"
      ]
     },
     "execution_count": 28,
     "metadata": {},
     "output_type": "execute_result"
    }
   ],
   "source": [
    "unemployed_final = unemployed_final.sort_index()\n",
    "unemployed_final"
   ]
  },
  {
   "cell_type": "code",
   "execution_count": null,
   "metadata": {},
   "outputs": [],
   "source": []
  }
 ],
 "metadata": {
  "kernelspec": {
   "display_name": "Python 3",
   "language": "python",
   "name": "python3"
  },
  "language_info": {
   "codemirror_mode": {
    "name": "ipython",
    "version": 3
   },
   "file_extension": ".py",
   "mimetype": "text/x-python",
   "name": "python",
   "nbconvert_exporter": "python",
   "pygments_lexer": "ipython3",
   "version": "3.7.4"
  }
 },
 "nbformat": 4,
 "nbformat_minor": 2
}
